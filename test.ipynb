{
 "cells": [
  {
   "cell_type": "code",
   "execution_count": 2,
   "id": "2a41d79b",
   "metadata": {},
   "outputs": [
    {
     "ename": "ValueError",
     "evalue": "Instructor I1: must be qualified for at least one course",
     "output_type": "error",
     "traceback": [
      "\u001b[31m---------------------------------------------------------------------------\u001b[39m",
      "\u001b[31mValueError\u001b[39m                                Traceback (most recent call last)",
      "\u001b[36mCell\u001b[39m\u001b[36m \u001b[39m\u001b[32mIn[2]\u001b[39m\u001b[32m, line 16\u001b[39m\n\u001b[32m     14\u001b[39m qts = QuantumTimeSystem()\n\u001b[32m     15\u001b[39m courses = load_courses(\u001b[33m\"\u001b[39m\u001b[33mdata/courses.json\u001b[39m\u001b[33m\"\u001b[39m)\n\u001b[32m---> \u001b[39m\u001b[32m16\u001b[39m instructors = \u001b[43mload_instructors\u001b[49m\u001b[43m(\u001b[49m\u001b[33;43m\"\u001b[39;49m\u001b[33;43mdata/instructors.json\u001b[39;49m\u001b[33;43m\"\u001b[39;49m\u001b[43m,\u001b[49m\u001b[43m \u001b[49m\u001b[43mqts\u001b[49m\u001b[43m)\u001b[49m\n\u001b[32m     17\u001b[39m groups = load_groups(\u001b[33m\"\u001b[39m\u001b[33mdata/groups.json\u001b[39m\u001b[33m\"\u001b[39m, qts)\n\u001b[32m     18\u001b[39m rooms = load_rooms(\u001b[33m\"\u001b[39m\u001b[33mdata/rooms.json\u001b[39m\u001b[33m\"\u001b[39m, qts)\n",
      "\u001b[36mFile \u001b[39m\u001b[32mc:\\Users\\krishna\\Desktop\\genetics\\src\\encoders\\input_encoder.py:46\u001b[39m, in \u001b[36mload_instructors\u001b[39m\u001b[34m(path, qts)\u001b[39m\n\u001b[32m     44\u001b[39m instructors = {}\n\u001b[32m     45\u001b[39m \u001b[38;5;28;01mfor\u001b[39;00m item \u001b[38;5;129;01min\u001b[39;00m data:\n\u001b[32m---> \u001b[39m\u001b[32m46\u001b[39m     instructors[item[\u001b[33m\"\u001b[39m\u001b[33mid\u001b[39m\u001b[33m\"\u001b[39m]] = \u001b[43mInstructor\u001b[49m\u001b[43m(\u001b[49m\n\u001b[32m     47\u001b[39m \u001b[43m        \u001b[49m\u001b[43minstructor_id\u001b[49m\u001b[43m=\u001b[49m\u001b[43mitem\u001b[49m\u001b[43m[\u001b[49m\u001b[33;43m\"\u001b[39;49m\u001b[33;43mid\u001b[39;49m\u001b[33;43m\"\u001b[39;49m\u001b[43m]\u001b[49m\u001b[43m,\u001b[49m\n\u001b[32m     48\u001b[39m \u001b[43m        \u001b[49m\u001b[43mname\u001b[49m\u001b[43m=\u001b[49m\u001b[43mitem\u001b[49m\u001b[43m[\u001b[49m\u001b[33;43m\"\u001b[39;49m\u001b[33;43mname\u001b[39;49m\u001b[33;43m\"\u001b[39;49m\u001b[43m]\u001b[49m\u001b[43m,\u001b[49m\n\u001b[32m     49\u001b[39m \u001b[43m        \u001b[49m\u001b[43mqualified_courses\u001b[49m\u001b[43m=\u001b[49m\u001b[43m[\u001b[49m\u001b[43m]\u001b[49m\u001b[43m,\u001b[49m\u001b[43m  \u001b[49m\u001b[38;5;66;43;03m# To be backfilled\u001b[39;49;00m\n\u001b[32m     50\u001b[39m \u001b[43m        \u001b[49m\u001b[43mis_full_time\u001b[49m\u001b[43m=\u001b[49m\u001b[38;5;28;43;01mFalse\u001b[39;49;00m\u001b[43m,\u001b[49m\n\u001b[32m     51\u001b[39m \u001b[43m        \u001b[49m\u001b[43mavailable_quanta\u001b[49m\u001b[43m=\u001b[49m\u001b[43mencode_availability\u001b[49m\u001b[43m(\u001b[49m\u001b[43mitem\u001b[49m\u001b[43m[\u001b[49m\u001b[33;43m\"\u001b[39;49m\u001b[33;43mavailability\u001b[39;49m\u001b[33;43m\"\u001b[39;49m\u001b[43m]\u001b[49m\u001b[43m,\u001b[49m\u001b[43m \u001b[49m\u001b[43mqts\u001b[49m\u001b[43m)\u001b[49m\u001b[43m,\u001b[49m\n\u001b[32m     52\u001b[39m \u001b[43m    \u001b[49m\u001b[43m)\u001b[49m\n\u001b[32m     53\u001b[39m \u001b[38;5;28;01mreturn\u001b[39;00m instructors\n",
      "\u001b[36mFile \u001b[39m\u001b[32m<string>:10\u001b[39m, in \u001b[36m__init__\u001b[39m\u001b[34m(self, instructor_id, name, qualified_courses, is_full_time, available_quanta, booked_quanta, max_hours_per_week)\u001b[39m\n",
      "\u001b[36mFile \u001b[39m\u001b[32mc:\\Users\\krishna\\Desktop\\genetics\\src\\entities\\instructor.py:39\u001b[39m, in \u001b[36mInstructor.__post_init__\u001b[39m\u001b[34m(self)\u001b[39m\n\u001b[32m     37\u001b[39m \u001b[38;5;250m\u001b[39m\u001b[33;03m\"\"\"Validate instructor data after initialization.\"\"\"\u001b[39;00m\n\u001b[32m     38\u001b[39m \u001b[38;5;28;01mif\u001b[39;00m \u001b[38;5;129;01mnot\u001b[39;00m \u001b[38;5;28mself\u001b[39m.qualified_courses:\n\u001b[32m---> \u001b[39m\u001b[32m39\u001b[39m     \u001b[38;5;28;01mraise\u001b[39;00m \u001b[38;5;167;01mValueError\u001b[39;00m(\n\u001b[32m     40\u001b[39m         \u001b[33mf\u001b[39m\u001b[33m\"\u001b[39m\u001b[33mInstructor \u001b[39m\u001b[38;5;132;01m{\u001b[39;00m\u001b[38;5;28mself\u001b[39m.instructor_id\u001b[38;5;132;01m}\u001b[39;00m\u001b[33m: must be qualified for at least one course\u001b[39m\u001b[33m\"\u001b[39m\n\u001b[32m     41\u001b[39m     )\n\u001b[32m     43\u001b[39m \u001b[38;5;28;01mif\u001b[39;00m \u001b[38;5;129;01mnot\u001b[39;00m \u001b[38;5;28mself\u001b[39m.is_full_time \u001b[38;5;129;01mand\u001b[39;00m \u001b[38;5;129;01mnot\u001b[39;00m \u001b[38;5;28mself\u001b[39m.available_quanta:\n\u001b[32m     44\u001b[39m     \u001b[38;5;28;01mraise\u001b[39;00m \u001b[38;5;167;01mValueError\u001b[39;00m(\n\u001b[32m     45\u001b[39m         \u001b[33mf\u001b[39m\u001b[33m\"\u001b[39m\u001b[33mPart-time instructor \u001b[39m\u001b[38;5;132;01m{\u001b[39;00m\u001b[38;5;28mself\u001b[39m.instructor_id\u001b[38;5;132;01m}\u001b[39;00m\u001b[33m must have available time slots\u001b[39m\u001b[33m\"\u001b[39m\n\u001b[32m     46\u001b[39m     )\n",
      "\u001b[31mValueError\u001b[39m: Instructor I1: must be qualified for at least one course"
     ]
    }
   ],
   "source": [
    "# main.ipynb (Python cells for demonstration)\n",
    "\n",
    "# Cell 1: Setup environment\n",
    "import sys\n",
    "import os\n",
    "sys.path.append(\"src\")\n",
    "\n",
    "# Cell 2: Imports\n",
    "from src.encoders import QuantumTimeSystem\n",
    "from src.encoders import load_courses, load_instructors, load_groups, load_rooms\n",
    "from src.ga_deap.runner import run_ga\n",
    "\n",
    "# Cell 3: Initialize Time System and Load Data\n",
    "qts = QuantumTimeSystem()\n",
    "courses = load_courses(\"data/courses.json\")\n",
    "instructors = load_instructors(\"data/instructors.json\", qts)\n",
    "groups = load_groups(\"data/groups.json\", qts)\n",
    "rooms = load_rooms(\"data/rooms.json\", qts)\n",
    "\n",
    "# Cell 4: Print Loaded Overview\n",
    "print(\"Courses loaded:\", list(courses.keys()))\n",
    "print(\"Instructors:\", list(instructors.keys()))\n",
    "print(\"Groups:\", list(groups.keys()))\n",
    "print(\"Rooms:\", list(rooms.keys()))\n",
    "\n",
    "# Cell 5: Run Genetic Algorithm\n",
    "best_individual = run_ga(\n",
    "    qts=qts,\n",
    "    courses=courses,\n",
    "    instructors=instructors,\n",
    "    groups=groups,\n",
    "    rooms=rooms,\n",
    "    ngen=20,\n",
    "    pop_size=50\n",
    ")\n",
    "\n",
    "# Cell 6: Inspect Result\n",
    "print(\"Best fitness:\", best_individual.fitness.values)\n",
    "print(\"Sample gene (first 5):\", best_individual[:5])\n"
   ]
  },
  {
   "cell_type": "code",
   "execution_count": null,
   "id": "d7771865",
   "metadata": {},
   "outputs": [],
   "source": []
  }
 ],
 "metadata": {
  "kernelspec": {
   "display_name": "deap-env",
   "language": "python",
   "name": "python3"
  },
  "language_info": {
   "codemirror_mode": {
    "name": "ipython",
    "version": 3
   },
   "file_extension": ".py",
   "mimetype": "text/x-python",
   "name": "python",
   "nbconvert_exporter": "python",
   "pygments_lexer": "ipython3",
   "version": "3.11.13"
  }
 },
 "nbformat": 4,
 "nbformat_minor": 5
}
