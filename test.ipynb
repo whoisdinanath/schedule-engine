{
 "cells": [
  {
   "cell_type": "code",
   "execution_count": null,
   "id": "2a41d79b",
   "metadata": {},
   "outputs": [],
   "source": [
    "# main.ipynb (Python cells for demonstration)\n",
    "\n",
    "# Cell 1: Setup environment\n",
    "import sys\n",
    "import os\n",
    "sys.path.append(\"src\")\n",
    "\n",
    "# Cell 2: Imports\n",
    "from src.encoders import QuantumTimeSystem\n",
    "from src.encoders import load_courses, load_instructors, load_groups, load_rooms\n",
    "from src.ga_deap.runner import run_ga\n",
    "\n",
    "# Cell 3: Initialize Time System and Load Data\n",
    "qts = QuantumTimeSystem()\n",
    "courses = load_courses(\"data/courses.json\")\n",
    "instructors = load_instructors(\"data/instructors.json\", qts)\n",
    "groups = load_groups(\"data/groups.json\", qts)\n",
    "rooms = load_rooms(\"data/rooms.json\", qts)\n",
    "\n",
    "# Cell 4: Print Loaded Overview\n",
    "print(\"Courses loaded:\", list(courses.keys()))\n",
    "print(\"Instructors:\", list(instructors.keys()))\n",
    "print(\"Groups:\", list(groups.keys()))\n",
    "print(\"Rooms:\", list(rooms.keys()))\n",
    "\n",
    "# Cell 5: Run Genetic Algorithm\n",
    "best_individual = run_ga(\n",
    "    qts=qts,\n",
    "    courses=courses,\n",
    "    instructors=instructors,\n",
    "    groups=groups,\n",
    "    rooms=rooms,\n",
    "    ngen=20,\n",
    "    pop_size=50\n",
    ")\n",
    "\n",
    "# Cell 6: Inspect Result\n",
    "print(\"Best fitness:\", best_individual.fitness.values)\n",
    "print(\"Sample gene (first 5):\", best_individual[:5])\n"
   ]
  }
 ],
 "metadata": {
  "language_info": {
   "name": "python"
  }
 },
 "nbformat": 4,
 "nbformat_minor": 5
}
