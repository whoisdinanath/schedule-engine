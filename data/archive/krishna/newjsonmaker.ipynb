{
 "cells": [
  {
   "cell_type": "code",
   "execution_count": 2,
   "id": "549f2209",
   "metadata": {},
   "outputs": [],
   "source": [
    "import csv\n",
    "import json\n",
    "\n",
    "def csv_to_json_with_default_availability(csv_path):\n",
    "    default_availability = {\n",
    "        day: [{\"start\": \"06:00\", \"end\": \"19:00\"}]\n",
    "        for day in [\"Monday\", \"Tuesday\", \"Wednesday\", \"Thursday\", \"Friday\"]\n",
    "    }\n",
    "\n",
    "    result = []\n",
    "    with open(csv_path, mode='r', encoding='utf-8') as f:\n",
    "        reader = csv.DictReader(f)\n",
    "        for row in reader:\n",
    "            entry = {\n",
    "                \"id\": f\"I{row['instructor_id']}\",\n",
    "                \"name\": row[\"name\"],\n",
    "                \"courses\": [c.strip() for c in row[\"qualified_courses\"].split(\",\")],\n",
    "                \"availability\": default_availability\n",
    "            }\n",
    "            result.append(entry)\n",
    "\n",
    "    return result\n",
    "\n",
    "# Usage\n",
    "json_output = csv_to_json_with_default_availability(\"instructor_alldata.csv\")\n",
    "with open(\"newdata_all/instructor_alldata_new.json\", \"w\", encoding=\"utf-8\") as f:\n",
    "    json.dump(json_output, f, indent=4)\n"
   ]
  }
 ],
 "metadata": {
  "kernelspec": {
   "display_name": "deap-env",
   "language": "python",
   "name": "python3"
  },
  "language_info": {
   "codemirror_mode": {
    "name": "ipython",
    "version": 3
   },
   "file_extension": ".py",
   "mimetype": "text/x-python",
   "name": "python",
   "nbconvert_exporter": "python",
   "pygments_lexer": "ipython3",
   "version": "3.11.13"
  }
 },
 "nbformat": 4,
 "nbformat_minor": 5
}
