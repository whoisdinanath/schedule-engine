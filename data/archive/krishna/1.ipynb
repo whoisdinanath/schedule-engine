{
 "cells": [
  {
   "cell_type": "code",
   "execution_count": 1,
   "id": "a86f978a",
   "metadata": {},
   "outputs": [],
   "source": [
    "import csv\n",
    "import json\n",
    "\n",
    "def parse_slots(slot_string):\n",
    "    slots_by_day = {}\n",
    "    for item in slot_string.split(','):\n",
    "        if '_' not in item:\n",
    "            continue\n",
    "        day_part, time_part = item.strip().split('_')\n",
    "        start, end = time_part.split('-')\n",
    "        day = day_part.capitalize()\n",
    "        if day not in slots_by_day:\n",
    "            slots_by_day[day] = []\n",
    "        slots_by_day[day].append({\"start\": start, \"end\": end})\n",
    "    return slots_by_day\n",
    "\n",
    "def convert_csv_to_json(csv_path, json_path):\n",
    "    instructors = []\n",
    "\n",
    "    with open(csv_path, newline='', encoding='utf-8') as csvfile:\n",
    "        reader = csv.DictReader(csvfile)\n",
    "        for row in reader:\n",
    "            instructor = {\n",
    "                \"id\": f\"I{int(row['instructor_id'])}\",\n",
    "                \"name\": row[\"name\"],\n",
    "                \"courses\": [c.strip() for c in row[\"qualified_courses\"].split(',')],\n",
    "                \"availability\": parse_slots(row[\"available_slots\"])\n",
    "            }\n",
    "            instructors.append(instructor)\n",
    "\n",
    "    with open(json_path, 'w', encoding='utf-8') as jsonfile:\n",
    "        json.dump(instructors, jsonfile, indent=4)\n",
    "\n",
    "# Example usage:\n",
    "convert_csv_to_json(\"instructorall.csv\", \"instructors.json\")"
   ]
  },
  {
   "cell_type": "code",
   "execution_count": 3,
   "id": "b7fadb01",
   "metadata": {},
   "outputs": [],
   "source": [
    "#  duplicate teacher managed version:\n",
    "import csv\n",
    "import json\n",
    "from collections import defaultdict\n",
    "\n",
    "def parse_slots(slot_string):\n",
    "    slots_by_day = defaultdict(list)\n",
    "    for item in slot_string.split(','):\n",
    "        if '_' not in item:\n",
    "            continue\n",
    "        day_part, time_part = item.strip().split('_')\n",
    "        start, end = time_part.split('-')\n",
    "        day = day_part.capitalize()\n",
    "        slots_by_day[day].append({\"start\": start, \"end\": end})\n",
    "    return dict(slots_by_day)\n",
    "\n",
    "def merge_availability(avail1, avail2):\n",
    "    merged = defaultdict(list)\n",
    "    for day in set(avail1.keys()).union(avail2.keys()):\n",
    "        merged[day].extend(avail1.get(day, []))\n",
    "        merged[day].extend(avail2.get(day, []))\n",
    "    return dict(merged)\n",
    "\n",
    "def convert_csv_to_json_with_merge(csv_path, json_path):\n",
    "    merged_data = {}\n",
    "\n",
    "    with open(csv_path, newline='', encoding='utf-8') as csvfile:\n",
    "        reader = csv.DictReader(csvfile)\n",
    "        for row in reader:\n",
    "            name = row['name'].strip()\n",
    "            courses = [c.strip() for c in row['qualified_courses'].split(',')]\n",
    "            availability = parse_slots(row['available_slots'])\n",
    "\n",
    "            if name in merged_data:\n",
    "                # Merge courses and availability\n",
    "                existing = merged_data[name]\n",
    "                existing['courses'] = sorted(set(existing['courses'] + courses))\n",
    "                existing['availability'] = merge_availability(existing['availability'], availability)\n",
    "            else:\n",
    "                merged_data[name] = {\n",
    "                    \"id\": f\"I{len(merged_data)+1}\",\n",
    "                    \"name\": name,\n",
    "                    \"courses\": courses,\n",
    "                    \"availability\": availability\n",
    "                }\n",
    "\n",
    "    # Write merged data to JSON\n",
    "    with open(json_path, 'w', encoding='utf-8') as jsonfile:\n",
    "        json.dump(list(merged_data.values()), jsonfile, indent=4)\n",
    "\n",
    "# Example usage\n",
    "convert_csv_to_json_with_merge(\"instructorall.csv\", \"instructors_merged.json\")\n"
   ]
  },
  {
   "cell_type": "code",
   "execution_count": null,
   "id": "85a888c1",
   "metadata": {},
   "outputs": [],
   "source": []
  },
  {
   "cell_type": "code",
   "execution_count": 9,
   "id": "0572f623",
   "metadata": {},
   "outputs": [],
   "source": [
    "import pandas as pd"
   ]
  },
  {
   "cell_type": "code",
   "execution_count": 10,
   "id": "de6c0ad1",
   "metadata": {},
   "outputs": [],
   "source": [
    "data_frame = pd.read_csv(\"merged_TEST.csv\")"
   ]
  },
  {
   "cell_type": "code",
   "execution_count": 11,
   "id": "950c6ffe",
   "metadata": {},
   "outputs": [
    {
     "data": {
      "text/html": [
       "<div>\n",
       "<style scoped>\n",
       "    .dataframe tbody tr th:only-of-type {\n",
       "        vertical-align: middle;\n",
       "    }\n",
       "\n",
       "    .dataframe tbody tr th {\n",
       "        vertical-align: top;\n",
       "    }\n",
       "\n",
       "    .dataframe thead th {\n",
       "        text-align: right;\n",
       "    }\n",
       "</style>\n",
       "<table border=\"1\" class=\"dataframe\">\n",
       "  <thead>\n",
       "    <tr style=\"text-align: right;\">\n",
       "      <th></th>\n",
       "      <th>teacher</th>\n",
       "      <th>code</th>\n",
       "    </tr>\n",
       "  </thead>\n",
       "  <tbody>\n",
       "    <tr>\n",
       "      <th>0</th>\n",
       "      <td>Abhinesh Khatri</td>\n",
       "      <td>Theory of Structure I , II and Practical of bo...</td>\n",
       "    </tr>\n",
       "    <tr>\n",
       "      <th>1</th>\n",
       "      <td>Atul Bhandari</td>\n",
       "      <td>ENCE 254-PR,ENCE 254Water Supply Engineering [...</td>\n",
       "    </tr>\n",
       "    <tr>\n",
       "      <th>2</th>\n",
       "      <td>Bhes Kumar Karki</td>\n",
       "      <td>ENCE 153-PR,ENCE 153,ENCE 254</td>\n",
       "    </tr>\n",
       "    <tr>\n",
       "      <th>3</th>\n",
       "      <td>Bhes Kumar Karki</td>\n",
       "      <td>Water Supply Engineering [L], Practical (Alt A...</td>\n",
       "    </tr>\n",
       "    <tr>\n",
       "      <th>4</th>\n",
       "      <td>Bibek Babu Lamichhanie</td>\n",
       "      <td>ENCE 253,ENCE 253-PR</td>\n",
       "    </tr>\n",
       "  </tbody>\n",
       "</table>\n",
       "</div>"
      ],
      "text/plain": [
       "                  teacher                                               code\n",
       "0         Abhinesh Khatri  Theory of Structure I , II and Practical of bo...\n",
       "1           Atul Bhandari  ENCE 254-PR,ENCE 254Water Supply Engineering [...\n",
       "2        Bhes Kumar Karki                      ENCE 153-PR,ENCE 153,ENCE 254\n",
       "3        Bhes Kumar Karki  Water Supply Engineering [L], Practical (Alt A...\n",
       "4  Bibek Babu Lamichhanie                               ENCE 253,ENCE 253-PR"
      ]
     },
     "execution_count": 11,
     "metadata": {},
     "output_type": "execute_result"
    }
   ],
   "source": [
    "data_frame.head()"
   ]
  },
  {
   "cell_type": "code",
   "execution_count": 12,
   "id": "01705a78",
   "metadata": {},
   "outputs": [],
   "source": [
    "# loop through the data, if the teacher col is equal merge them, by concatenating the values of  subject (separate using comma)\n",
    "merged_data = (\n",
    "    data_frame.groupby(\"teacher\")[\"code\"].apply(lambda x: \", \".join(x)).reset_index()\n",
    ")"
   ]
  },
  {
   "cell_type": "code",
   "execution_count": 13,
   "id": "62c51c5b",
   "metadata": {},
   "outputs": [
    {
     "data": {
      "text/html": [
       "<div>\n",
       "<style scoped>\n",
       "    .dataframe tbody tr th:only-of-type {\n",
       "        vertical-align: middle;\n",
       "    }\n",
       "\n",
       "    .dataframe tbody tr th {\n",
       "        vertical-align: top;\n",
       "    }\n",
       "\n",
       "    .dataframe thead th {\n",
       "        text-align: right;\n",
       "    }\n",
       "</style>\n",
       "<table border=\"1\" class=\"dataframe\">\n",
       "  <thead>\n",
       "    <tr style=\"text-align: right;\">\n",
       "      <th></th>\n",
       "      <th>teacher</th>\n",
       "      <th>code</th>\n",
       "    </tr>\n",
       "  </thead>\n",
       "  <tbody>\n",
       "    <tr>\n",
       "      <th>0</th>\n",
       "      <td>Abhinesh Khatri</td>\n",
       "      <td>Theory of Structure I , II and Practical of bo...</td>\n",
       "    </tr>\n",
       "    <tr>\n",
       "      <th>1</th>\n",
       "      <td>Atul Bhandari</td>\n",
       "      <td>ENCE 254-PR,ENCE 254Water Supply Engineering [...</td>\n",
       "    </tr>\n",
       "    <tr>\n",
       "      <th>2</th>\n",
       "      <td>Bhes Kumar Karki</td>\n",
       "      <td>ENCE 153-PR,ENCE 153,ENCE 254, Water Supply En...</td>\n",
       "    </tr>\n",
       "    <tr>\n",
       "      <th>3</th>\n",
       "      <td>Bibek Babu Lamichhanie</td>\n",
       "      <td>ENCE 253,ENCE 253-PR, Soil Mechanics [L], Prac...</td>\n",
       "    </tr>\n",
       "    <tr>\n",
       "      <th>4</th>\n",
       "      <td>Bibek Pudasaini</td>\n",
       "      <td>Engineering Drawing Practical (Gr-F), Engineer...</td>\n",
       "    </tr>\n",
       "  </tbody>\n",
       "</table>\n",
       "</div>"
      ],
      "text/plain": [
       "                  teacher                                               code\n",
       "0         Abhinesh Khatri  Theory of Structure I , II and Practical of bo...\n",
       "1           Atul Bhandari  ENCE 254-PR,ENCE 254Water Supply Engineering [...\n",
       "2        Bhes Kumar Karki  ENCE 153-PR,ENCE 153,ENCE 254, Water Supply En...\n",
       "3  Bibek Babu Lamichhanie  ENCE 253,ENCE 253-PR, Soil Mechanics [L], Prac...\n",
       "4         Bibek Pudasaini  Engineering Drawing Practical (Gr-F), Engineer..."
      ]
     },
     "execution_count": 13,
     "metadata": {},
     "output_type": "execute_result"
    }
   ],
   "source": [
    "merged_data.head()"
   ]
  },
  {
   "cell_type": "code",
   "execution_count": 14,
   "id": "99b08f13",
   "metadata": {},
   "outputs": [],
   "source": [
    "\n",
    "pd.DataFrame(merged_data).to_csv(\"merged_TEST__newkrishna.csv\", index=False)"
   ]
  },
  {
   "cell_type": "code",
   "execution_count": null,
   "id": "5c9d9d13",
   "metadata": {},
   "outputs": [],
   "source": []
  }
 ],
 "metadata": {
  "kernelspec": {
   "display_name": "deap-env",
   "language": "python",
   "name": "python3"
  },
  "language_info": {
   "codemirror_mode": {
    "name": "ipython",
    "version": 3
   },
   "file_extension": ".py",
   "mimetype": "text/x-python",
   "name": "python",
   "nbconvert_exporter": "python",
   "pygments_lexer": "ipython3",
   "version": "3.11.13"
  }
 },
 "nbformat": 4,
 "nbformat_minor": 5
}
