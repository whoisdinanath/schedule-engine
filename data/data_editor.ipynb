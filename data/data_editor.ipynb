{
 "cells": [
  {
   "cell_type": "code",
   "execution_count": 3,
   "id": "c6a081c4",
   "metadata": {},
   "outputs": [],
   "source": [
    "import json\n",
    "\n",
    "INPUT_FILE = \"Rooms.json\"\n",
    "OUTPUT_FILE = \"Rooms_new.json\"\n",
    "LECTURE_ROOM_FEATURE = \"Lecture Room\"\n",
    "CAPACITY_THRESHOLD = 24\n",
    "\n",
    "def process_rooms(input_path: str, output_path: str) -> None:\n",
    "    with open(input_path, 'r') as infile:\n",
    "        rooms = json.load(infile)\n",
    "\n",
    "    for room in rooms:\n",
    "        if room.get(\"capacity\", 0) > CAPACITY_THRESHOLD:\n",
    "            room[\"features\"] = [LECTURE_ROOM_FEATURE]\n",
    "\n",
    "    with open(output_path, 'w') as outfile:\n",
    "        json.dump(rooms, outfile, indent=4)\n",
    "\n",
    "if __name__ == \"__main__\":\n",
    "    process_rooms(INPUT_FILE, OUTPUT_FILE)\n"
   ]
  },
  {
   "cell_type": "code",
   "execution_count": null,
   "id": "11b5ca0e",
   "metadata": {},
   "outputs": [],
   "source": []
  }
 ],
 "metadata": {
  "kernelspec": {
   "display_name": "deap-env",
   "language": "python",
   "name": "python3"
  },
  "language_info": {
   "codemirror_mode": {
    "name": "ipython",
    "version": 3
   },
   "file_extension": ".py",
   "mimetype": "text/x-python",
   "name": "python",
   "nbconvert_exporter": "python",
   "pygments_lexer": "ipython3",
   "version": "3.11.13"
  }
 },
 "nbformat": 4,
 "nbformat_minor": 5
}
