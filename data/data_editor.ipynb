{
 "cells": [
  {
   "cell_type": "code",
   "execution_count": null,
   "id": "c6a081c4",
   "metadata": {},
   "outputs": [],
   "source": []
  },
  {
   "cell_type": "code",
   "execution_count": 1,
   "id": "11b5ca0e",
   "metadata": {},
   "outputs": [
    {
     "name": "stdout",
     "output_type": "stream",
     "text": [
      "Conversion complete! The updated data has been saved to 'groups_updated.json'.\n"
     ]
    }
   ],
   "source": [
    "import json\n",
    "\n",
    "def convert_groups_format(input_filename='groups.json', output_filename='groups_updated.json'):\n",
    "    \"\"\"\n",
    "    Reads a groups JSON file, converts the 'subgroups' from a list of strings\n",
    "    to a list of objects with 'id' and calculated 'student_count'.\n",
    "    \"\"\"\n",
    "    try:\n",
    "        with open(input_filename, 'r') as f:\n",
    "            data = json.load(f)\n",
    "    except FileNotFoundError:\n",
    "        print(f\"Error: The file '{input_filename}' was not found.\")\n",
    "        return\n",
    "    except json.JSONDecodeError:\n",
    "        print(f\"Error: Could not decode JSON from the file '{input_filename}'.\")\n",
    "        return\n",
    "\n",
    "    updated_data = []\n",
    "\n",
    "    for group in data:\n",
    "        # Make a copy to avoid modifying the original dict while iterating\n",
    "        new_group = group.copy()\n",
    "        \n",
    "        # Check if subgroups exist and the list is not empty\n",
    "        if 'subgroups' in group and group['subgroups']:\n",
    "            total_students = group.get('student_count', 0)\n",
    "            subgroup_ids = group['subgroups']\n",
    "            num_subgroups = len(subgroup_ids)\n",
    "\n",
    "            if num_subgroups > 0:\n",
    "                base_count = total_students // num_subgroups\n",
    "                remainder = total_students % num_subgroups\n",
    "                \n",
    "                new_subgroups = []\n",
    "                for i, subgroup_id in enumerate(subgroup_ids):\n",
    "                    # Distribute the remainder students to the first few subgroups\n",
    "                    student_count = base_count + 1 if i < remainder else base_count\n",
    "                    new_subgroups.append({\n",
    "                        \"id\": subgroup_id,\n",
    "                        \"student_count\": student_count\n",
    "                    })\n",
    "                \n",
    "                new_group['subgroups'] = new_subgroups\n",
    "            else:\n",
    "                 # Handle cases where 'subgroups' is an empty list\n",
    "                new_group['subgroups'] = []\n",
    "        else:\n",
    "            # If a group has no 'subgroups' key, add an empty list for consistency\n",
    "            new_group['subgroups'] = []\n",
    "            \n",
    "        updated_data.append(new_group)\n",
    "\n",
    "    # Write the updated data to a new file\n",
    "    with open(output_filename, 'w') as f:\n",
    "        json.dump(updated_data, f, indent=4)\n",
    "\n",
    "    print(f\"Conversion complete! The updated data has been saved to '{output_filename}'.\")\n",
    "\n",
    "# Run the conversion\n",
    "if __name__ == \"__main__\":\n",
    "    convert_groups_format()"
   ]
  },
  {
   "cell_type": "code",
   "execution_count": null,
   "id": "38979445",
   "metadata": {},
   "outputs": [],
   "source": []
  }
 ],
 "metadata": {
  "kernelspec": {
   "display_name": "deap-env",
   "language": "python",
   "name": "python3"
  },
  "language_info": {
   "codemirror_mode": {
    "name": "ipython",
    "version": 3
   },
   "file_extension": ".py",
   "mimetype": "text/x-python",
   "name": "python",
   "nbconvert_exporter": "python",
   "pygments_lexer": "ipython3",
   "version": "3.11.13"
  }
 },
 "nbformat": 4,
 "nbformat_minor": 5
}
