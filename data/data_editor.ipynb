{
 "cells": [
  {
   "cell_type": "code",
   "execution_count": null,
   "id": "c6a081c4",
   "metadata": {},
   "outputs": [],
   "source": []
  },
  {
   "cell_type": "code",
   "execution_count": 1,
   "id": "11b5ca0e",
   "metadata": {},
   "outputs": [
    {
     "name": "stdout",
     "output_type": "stream",
     "text": [
      "Successfully converted 'InstructorsOld.json' to 'InstructorsNew.json'.\n"
     ]
    }
   ],
   "source": [
    "import json\n",
    "\n",
    "def convert_instructor_data(input_filename=\"InstructorsOld.json\", output_filename=\"InstructorsNew.json\"):\n",
    "    \"\"\"\n",
    "    Reads instructor data from an input JSON file, converts the course format,\n",
    "    and writes the result to a new JSON file.\n",
    "    \"\"\"\n",
    "    try:\n",
    "        # Step 1: Read the legacy JSON file\n",
    "        with open(input_filename, 'r') as f:\n",
    "            instructors_data = json.load(f)\n",
    "\n",
    "        # Step 2: Iterate through each instructor and transform their course list\n",
    "        for instructor in instructors_data:\n",
    "            new_courses_list = []\n",
    "            if \"courses\" in instructor and isinstance(instructor[\"courses\"], list):\n",
    "                for course_string in instructor[\"courses\"]:\n",
    "                    if course_string.endswith(\"-PR\"):\n",
    "                        # This is a Practical course\n",
    "                        course_obj = {\n",
    "                            \"coursecode\": course_string.replace(\"-PR\", \"\").strip(),\n",
    "                            \"coursetype\": \"Practical\"\n",
    "                        }\n",
    "                    else:\n",
    "                        # This is a Theory course\n",
    "                        course_obj = {\n",
    "                            \"coursecode\": course_string.strip(),\n",
    "                            \"coursetype\": \"Theory\"\n",
    "                        }\n",
    "                    new_courses_list.append(course_obj)\n",
    "            \n",
    "            # Replace the old 'courses' list with the newly formatted one\n",
    "            instructor[\"courses\"] = new_courses_list\n",
    "\n",
    "        # Step 3: Write the converted data to the new JSON file\n",
    "        with open(output_filename, 'w') as f:\n",
    "            json.dump(instructors_data, f, indent=4)\n",
    "        \n",
    "        print(f\"Successfully converted '{input_filename}' to '{output_filename}'.\")\n",
    "\n",
    "    except FileNotFoundError:\n",
    "        print(f\"Error: The file '{input_filename}' was not found.\")\n",
    "    except json.JSONDecodeError:\n",
    "        print(f\"Error: Could not decode JSON from the file '{input_filename}'. Please check its format.\")\n",
    "    except Exception as e:\n",
    "        print(f\"An unexpected error occurred: {e}\")\n",
    "\n",
    "# Run the conversion function\n",
    "if __name__ == \"__main__\":\n",
    "    convert_instructor_data()"
   ]
  },
  {
   "cell_type": "code",
   "execution_count": null,
   "id": "38979445",
   "metadata": {},
   "outputs": [],
   "source": []
  }
 ],
 "metadata": {
  "kernelspec": {
   "display_name": "deap-env",
   "language": "python",
   "name": "python3"
  },
  "language_info": {
   "codemirror_mode": {
    "name": "ipython",
    "version": 3
   },
   "file_extension": ".py",
   "mimetype": "text/x-python",
   "name": "python",
   "nbconvert_exporter": "python",
   "pygments_lexer": "ipython3",
   "version": "3.11.13"
  }
 },
 "nbformat": 4,
 "nbformat_minor": 5
}
