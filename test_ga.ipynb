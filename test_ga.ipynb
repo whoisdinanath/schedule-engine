{
 "cells": [
  {
   "cell_type": "code",
   "execution_count": 13,
   "id": "edc88c07",
   "metadata": {},
   "outputs": [
    {
     "name": "stdout",
     "output_type": "stream",
     "text": [
      "Import Shit is Fixed\n"
     ]
    }
   ],
   "source": [
    "from src.encoders import QuantumTimeSystem\n",
    "from src.encoders import load_courses, load_instructors, load_groups, load_rooms, link_courses_and_instructors\n",
    "from src.ga_deap.runner import run_ga\n",
    "from src.ga_deap.operators import custom_mutation  # only if using it directly\n",
    "print(\"Import Shit is Fixed\")"
   ]
  },
  {
   "cell_type": "code",
   "execution_count": 17,
   "id": "0b4d0d13",
   "metadata": {},
   "outputs": [
    {
     "name": "stderr",
     "output_type": "stream",
     "text": [
      "INFO:src.ga_deap.system:Loading data files...\n",
      "ERROR:src.ga_deap.system:Error loading data: Group.__init__() got an unexpected keyword argument 'available_quanta'\n",
      "WARNING:src.ga_deap.system:Data validation issues: ['Instructor I1 has no qualified courses', 'Instructor I2 has no qualified courses']\n"
     ]
    },
    {
     "ename": "ValueError",
     "evalue": "Data not loaded. Call load_data() first.",
     "output_type": "error",
     "traceback": [
      "\u001b[31m---------------------------------------------------------------------------\u001b[39m",
      "\u001b[31mValueError\u001b[39m                                Traceback (most recent call last)",
      "\u001b[36mCell\u001b[39m\u001b[36m \u001b[39m\u001b[32mIn[17]\u001b[39m\u001b[32m, line 6\u001b[39m\n\u001b[32m      4\u001b[39m system.load_data()\n\u001b[32m      5\u001b[39m system.validate_data()\n\u001b[32m----> \u001b[39m\u001b[32m6\u001b[39m \u001b[43msystem\u001b[49m\u001b[43m.\u001b[49m\u001b[43mrun_optimization\u001b[49m\u001b[43m(\u001b[49m\u001b[43mgenerations\u001b[49m\u001b[43m=\u001b[49m\u001b[32;43m50\u001b[39;49m\u001b[43m,\u001b[49m\u001b[43m \u001b[49m\u001b[43mpopulation_size\u001b[49m\u001b[43m=\u001b[49m\u001b[32;43m100\u001b[39;49m\u001b[43m)\u001b[49m\n\u001b[32m      8\u001b[39m \u001b[38;5;66;03m# Readable printout\u001b[39;00m\n\u001b[32m      9\u001b[39m \u001b[38;5;28mprint\u001b[39m(system.export_schedule(\u001b[38;5;28mformat\u001b[39m=\u001b[33m\"\u001b[39m\u001b[33mreadable\u001b[39m\u001b[33m\"\u001b[39m))\n",
      "\u001b[36mFile \u001b[39m\u001b[32mc:\\Users\\krishna\\Desktop\\genetics\\src\\ga_deap\\system.py:125\u001b[39m, in \u001b[36mTimetablingSystem.run_optimization\u001b[39m\u001b[34m(self, generations, population_size)\u001b[39m\n\u001b[32m    111\u001b[39m \u001b[38;5;250m\u001b[39m\u001b[33;03m\"\"\"\u001b[39;00m\n\u001b[32m    112\u001b[39m \u001b[33;03mRun the DEAP-based genetic algorithm to generate a valid schedule.\u001b[39;00m\n\u001b[32m    113\u001b[39m \n\u001b[32m   (...)\u001b[39m\u001b[32m    122\u001b[39m \u001b[33;03m    ValueError: If data has not been loaded before calling this method.\u001b[39;00m\n\u001b[32m    123\u001b[39m \u001b[33;03m\"\"\"\u001b[39;00m\n\u001b[32m    124\u001b[39m \u001b[38;5;28;01mif\u001b[39;00m \u001b[38;5;129;01mnot\u001b[39;00m \u001b[38;5;28mall\u001b[39m([\u001b[38;5;28mself\u001b[39m.courses, \u001b[38;5;28mself\u001b[39m.instructors, \u001b[38;5;28mself\u001b[39m.groups, \u001b[38;5;28mself\u001b[39m.rooms]):\n\u001b[32m--> \u001b[39m\u001b[32m125\u001b[39m     \u001b[38;5;28;01mraise\u001b[39;00m \u001b[38;5;167;01mValueError\u001b[39;00m(\u001b[33m\"\u001b[39m\u001b[33mData not loaded. Call load_data() first.\u001b[39m\u001b[33m\"\u001b[39m)\n\u001b[32m    127\u001b[39m \u001b[38;5;28mself\u001b[39m.logger.info(\n\u001b[32m    128\u001b[39m     \u001b[33mf\u001b[39m\u001b[33m\"\u001b[39m\u001b[33mStarting GA optimization with \u001b[39m\u001b[38;5;132;01m{\u001b[39;00mgenerations\u001b[38;5;132;01m}\u001b[39;00m\u001b[33m generations, population size \u001b[39m\u001b[38;5;132;01m{\u001b[39;00mpopulation_size\u001b[38;5;132;01m}\u001b[39;00m\u001b[33m\"\u001b[39m\n\u001b[32m    129\u001b[39m )\n\u001b[32m    131\u001b[39m \u001b[38;5;28mself\u001b[39m.best_solution = run_ga(\n\u001b[32m    132\u001b[39m     qts=\u001b[38;5;28mself\u001b[39m.qts,\n\u001b[32m    133\u001b[39m     courses=\u001b[38;5;28mself\u001b[39m.courses,\n\u001b[32m   (...)\u001b[39m\u001b[32m    138\u001b[39m     pop_size=population_size,\n\u001b[32m    139\u001b[39m )\n",
      "\u001b[31mValueError\u001b[39m: Data not loaded. Call load_data() first."
     ]
    }
   ],
   "source": [
    "from src.ga_deap.system import TimetablingSystem\n",
    "\n",
    "system = TimetablingSystem(data_path=\"data\")\n",
    "system.load_data()\n",
    "system.validate_data()\n",
    "system.run_optimization(generations=50, population_size=100)\n",
    "\n",
    "# Readable printout\n",
    "print(system.export_schedule(format=\"readable\"))"
   ]
  },
  {
   "cell_type": "code",
   "execution_count": null,
   "id": "4e52b285",
   "metadata": {},
   "outputs": [],
   "source": []
  }
 ],
 "metadata": {
  "kernelspec": {
   "display_name": "deap-env",
   "language": "python",
   "name": "python3"
  },
  "language_info": {
   "codemirror_mode": {
    "name": "ipython",
    "version": 3
   },
   "file_extension": ".py",
   "mimetype": "text/x-python",
   "name": "python",
   "nbconvert_exporter": "python",
   "pygments_lexer": "ipython3",
   "version": "3.11.13"
  }
 },
 "nbformat": 4,
 "nbformat_minor": 5
}
