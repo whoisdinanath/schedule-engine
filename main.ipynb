{
 "cells": [
  {
   "cell_type": "markdown",
   "id": "b104046e",
   "metadata": {},
   "source": [
    "\n",
    "# Genetic Algorithm Parameters and Libraries\n",
    "This notebook uses the following libraries for implementing a genetic algorithm:\n",
    "The main genetic algorithm parameters are:\n",
    "- **NGEN**: Number of generations (`50`)\n",
    "- **CXPB**: Crossover probability (`0.7`)\n",
    "- **MUTPB**: Mutation probability (`0.2`)\n",
    "- **POP_SIZE**: Population size (`100`)\n"
   ]
  },
  {
   "cell_type": "code",
   "execution_count": null,
   "id": "ffcde02e",
   "metadata": {},
   "outputs": [],
   "source": [
    "# Libraries\n",
    "import json\n",
    "import datetime\n",
    "import random\n",
    "from deap import base, creator, tools, algorithms"
   ]
  },
  {
   "cell_type": "code",
   "execution_count": null,
   "id": "bd9e7b3c",
   "metadata": {},
   "outputs": [],
   "source": [
    "# GA Params\n",
    "NGEN = 50\n",
    "CXPB = 0.7\n",
    "MUTPB = 0.2\n",
    "POP_SIZE = 100"
   ]
  },
  {
   "cell_type": "markdown",
   "id": "cad7990d",
   "metadata": {},
   "source": [
    "# Step 2: Define Fitness and Individual Types\n",
    "\n",
    "Use the `creator` from DEAP to define custom fitness and individual types for the genetic algorithm.\n",
    "\n",
    "- **Multi-Objective:** Minimize both hard and soft constraint violations.\n",
    "- The `FitnessMulti` class inherits from `base.Fitness`.\n",
    "    - `weights = (-1.0, -0.1)` indicates a multi-objective minimization:\n",
    "        - The first objective (hard constraints) is minimized with weight `-1.0`.\n",
    "        - The second objective (soft constraints) is minimized with weight `-0.1`.\n"
   ]
  },
  {
   "cell_type": "code",
   "execution_count": null,
   "id": "11179a06",
   "metadata": {},
   "outputs": [],
   "source": [
    "\n",
    "# The second line defines a new individual class called \"Individual\" that inherits from list.\n",
    "# Each individual will be a list (e.g., of ClassSessionObjects) and will have a fitness attribute of type FitnessMulti.\n",
    "creator.create(\"FitnessMulti\", base.Fitness, weights = (-1.0, -0.1)) # Hard and Sot Constraints\n",
    "creator.create(\"Individual\", list, fitness = creator.FitnessMulti) # Chromsome as a list of ClassSessionObjects"
   ]
  },
  {
   "cell_type": "markdown",
   "id": "51e2ba6c",
   "metadata": {},
   "source": [
    "# Step 3: Build Toolbox - DEAP's Central Registry\n",
    "`myToolbox = base.Toolbox()`"
   ]
  },
  {
   "cell_type": "code",
   "execution_count": 10,
   "id": "dc1699c5",
   "metadata": {},
   "outputs": [],
   "source": [
    "toolbox = base.Toolbox()"
   ]
  },
  {
   "cell_type": "markdown",
   "id": "9e44b168",
   "metadata": {},
   "source": [
    "# Step 4: Gene Representation"
   ]
  },
  {
   "cell_type": "code",
   "execution_count": null,
   "id": "1e74fd59",
   "metadata": {},
   "outputs": [],
   "source": [
    "class TimetableGene:\n",
    "    \"\"\" \n",
    "    Represents a single gene in the chromosome.\n",
    "    Each gene encodes one scheduled teaching event\n",
    "    Lets use global slot encoding for simplistic time encoding/representation\n",
    "    \"\"\"\n",
    "    __slots = ['course_id', 'groud_id', 'instructor_id', 'global_slot', 'duration_slots']\n",
    "    \n",
    "    def __init__(self, course_id, group_id, instructor_id, global_slot, duration_slots):"
   ]
  },
  {
   "cell_type": "code",
   "execution_count": null,
   "id": "c830d901",
   "metadata": {},
   "outputs": [],
   "source": []
  }
 ],
 "metadata": {
  "kernelspec": {
   "display_name": "deap-env",
   "language": "python",
   "name": "python3"
  },
  "language_info": {
   "codemirror_mode": {
    "name": "ipython",
    "version": 3
   },
   "file_extension": ".py",
   "mimetype": "text/x-python",
   "name": "python",
   "nbconvert_exporter": "python",
   "pygments_lexer": "ipython3",
   "version": "3.11.13"
  }
 },
 "nbformat": 4,
 "nbformat_minor": 5
}
